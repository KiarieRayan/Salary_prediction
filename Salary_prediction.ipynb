{
 "cells": [
  {
   "cell_type": "markdown",
   "id": "8761c2b6-e27c-469e-8799-838339580d03",
   "metadata": {},
   "source": [
    "# Linear Regression Analysis.\n",
    "## Introduction\n",
    "\n",
    "In this notebook, we will perform a linear regression analysis using a dataset from Kaggle. We will use simple linear regression where the input variables do not exceed  Linear regression is a statistical method used to model the relationship between a dependent variable and one or more independent variables. We will walk through the entire process, from data exploration to model evaluation.\n",
    "This project uses a data set found in kaggle: https://www.kaggle.com/datasets/abhishek14398/salary-dataset-simple-linear-regression/\n",
    "\n",
    "  The linear regression model can be expressed as:\n",
    "### 1. Model Equation\n",
    "$$\n",
    "f(x) = W*X + b\n",
    "$$\n",
    "Where:\n",
    " - b(bias) is the y-intercept of the line.\n",
    " - w (weight) represents the slope of the line, indicating the change in f(x) for a one-unit change in x.\n",
    " <!-- - ϵ is the error term, representing the difference between the actual and predicted values. -->\n",
    "   \n",
    "The equation above is derived from the equation of a straight line:\n",
    "$$\n",
    "Y = mx+c\n",
    "$$\n",
    "The linear regression model can also be expressed as:\n",
    "\n",
    "$$\n",
    "Y = \\beta_0 + \\beta_1 X + \\epsilon\n",
    "$$\n",
    "where:\n",
    " - Y is the dependent variable (response variable)\n",
    " - X is the independent variable (predictor variable).\n",
    " - $\\beta_0$ is the intercept (the value of YY when XX is zero). \n",
    " - $\\beta_1$ is the slope (the change in YY for a one-unit change in XX).\n",
    " - $\\epsilon$ is the error term (residuals).\n",
    "### 2. Objective\n",
    "\n",
    "The objective of fitting a linear regression model is to estimate the parameters \\( $\\beta_0$ \\) and \\( $\\beta_1$ \\) such that the sum of the squared residuals is minimized. This can be expressed as:\n",
    "\n",
    "$$\n",
    "\\text{Minimize } \\sum_{i=1}^{n} (Y_i - (\\beta_0 + \\beta_1 X_i))^2\n",
    "$$\n",
    "\n",
    "where:\n",
    "- \\( $Y_i$ \\) are the observed values.\n",
    "- \\( $X_i$ \\) are the predictor values.\n",
    "- \\( $n$ \\) is the number of observations.\n",
    "\n",
    "### 3. R-Squared\n",
    "\n",
    "The goodness-of-fit of the model is often evaluated using \\( R^2 \\), which is given by:\n",
    "\n",
    "$$\n",
    "R^2 = 1 - \\frac{\\sum_{i=1}^{n} (Y_i - \\hat{Y}_i)^2}{\\sum_{i=1}^{n} (Y_i - \\bar{Y})^2}\n",
    "$$\n",
    "\n",
    "where:\n",
    "- \\( $\\hat{Y}_i$ \\) are the predicted values from the model.\n",
    "- \\( $\\bar{Y}$ \\) is the mean of the observed values."
   ]
  },
  {
   "cell_type": "markdown",
   "id": "ca39511b-e830-446f-b50b-69638726caea",
   "metadata": {},
   "source": [
    "### 1 Importing the libraries."
   ]
  },
  {
   "cell_type": "code",
   "execution_count": 27,
   "id": "f0ef5690-fe19-44c6-9297-cd6995f08e41",
   "metadata": {},
   "outputs": [],
   "source": [
    "# Import necessary libraries\n",
    "import numpy as np\n",
    "import pandas as pd\n",
    "import matplotlib.pyplot as plt\n",
    "import seaborn as sns\n",
    "from sklearn.model_selection import train_test_split\n",
    "from sklearn.linear_model import LinearRegression\n",
    "from sklearn.metrics import mean_squared_error, r2_score, mean_absolute_error\n",
    "from sklearn.preprocessing import StandardScaler\n",
    "from sklearn.pipeline import Pipeline"
   ]
  },
  {
   "cell_type": "markdown",
   "id": "109b9215-d073-4da6-8c58-d5f36e5820ac",
   "metadata": {},
   "source": [
    "#### 1.1 Data Importation."
   ]
  },
  {
   "cell_type": "code",
   "execution_count": 9,
   "id": "2a01ecfd-57bf-49b2-ac8a-6b0c330b72ce",
   "metadata": {},
   "outputs": [
    {
     "data": {
      "text/html": [
       "<div>\n",
       "<style scoped>\n",
       "    .dataframe tbody tr th:only-of-type {\n",
       "        vertical-align: middle;\n",
       "    }\n",
       "\n",
       "    .dataframe tbody tr th {\n",
       "        vertical-align: top;\n",
       "    }\n",
       "\n",
       "    .dataframe thead th {\n",
       "        text-align: right;\n",
       "    }\n",
       "</style>\n",
       "<table border=\"1\" class=\"dataframe\">\n",
       "  <thead>\n",
       "    <tr style=\"text-align: right;\">\n",
       "      <th></th>\n",
       "      <th>Unnamed: 0</th>\n",
       "      <th>YearsExperience</th>\n",
       "      <th>Salary</th>\n",
       "    </tr>\n",
       "  </thead>\n",
       "  <tbody>\n",
       "    <tr>\n",
       "      <th>0</th>\n",
       "      <td>0</td>\n",
       "      <td>1.2</td>\n",
       "      <td>39344.0</td>\n",
       "    </tr>\n",
       "    <tr>\n",
       "      <th>1</th>\n",
       "      <td>1</td>\n",
       "      <td>1.4</td>\n",
       "      <td>46206.0</td>\n",
       "    </tr>\n",
       "    <tr>\n",
       "      <th>2</th>\n",
       "      <td>2</td>\n",
       "      <td>1.6</td>\n",
       "      <td>37732.0</td>\n",
       "    </tr>\n",
       "    <tr>\n",
       "      <th>3</th>\n",
       "      <td>3</td>\n",
       "      <td>2.1</td>\n",
       "      <td>43526.0</td>\n",
       "    </tr>\n",
       "    <tr>\n",
       "      <th>4</th>\n",
       "      <td>4</td>\n",
       "      <td>2.3</td>\n",
       "      <td>39892.0</td>\n",
       "    </tr>\n",
       "  </tbody>\n",
       "</table>\n",
       "</div>"
      ],
      "text/plain": [
       "   Unnamed: 0  YearsExperience   Salary\n",
       "0           0              1.2  39344.0\n",
       "1           1              1.4  46206.0\n",
       "2           2              1.6  37732.0\n",
       "3           3              2.1  43526.0\n",
       "4           4              2.3  39892.0"
      ]
     },
     "execution_count": 9,
     "metadata": {},
     "output_type": "execute_result"
    }
   ],
   "source": [
    "#reading the data.\n",
    "df=pd.read_csv('Salary_dataset.csv')\n",
    "df.head() # we want to see the first five rows of the data to get a sense of what the data actually looks like"
   ]
  },
  {
   "cell_type": "markdown",
   "id": "7830d92c-a019-4259-a3af-a13392613aae",
   "metadata": {},
   "source": [
    "From the data we actually see that they are continuos values and thus Linear regression can be applied to the problem to predict salaries.\n",
    "- It is worth noting that linear regression is useful in areas you suspect that the input variable X affects y, i.e when there is a linear relationship.\n",
    "Let's go ahead and check for missing values if any we can try and impute/ fill the data.\n",
    "We do this by using .info() method"
   ]
  },
  {
   "cell_type": "code",
   "execution_count": 3,
   "id": "5750f230-a23d-4556-9ad4-09304b3aeec9",
   "metadata": {},
   "outputs": [
    {
     "name": "stdout",
     "output_type": "stream",
     "text": [
      "<class 'pandas.core.frame.DataFrame'>\n",
      "RangeIndex: 30 entries, 0 to 29\n",
      "Data columns (total 3 columns):\n",
      " #   Column           Non-Null Count  Dtype  \n",
      "---  ------           --------------  -----  \n",
      " 0   Unnamed: 0       30 non-null     int64  \n",
      " 1   YearsExperience  30 non-null     float64\n",
      " 2   Salary           30 non-null     float64\n",
      "dtypes: float64(2), int64(1)\n",
      "memory usage: 852.0 bytes\n"
     ]
    }
   ],
   "source": [
    "df.info()"
   ]
  },
  {
   "cell_type": "markdown",
   "id": "77db4f93-d28e-41c5-bc03-ae8101b5a2fe",
   "metadata": {},
   "source": [
    "The data was from kaggle and probably was preprocessed and the missing values filled out so as expected we don't have any missing values.\n",
    "Let's go ahead and visualise the data to get a better understanding of how it actually looks like.\n",
    "- we use seaborn to plot the data with a regression line."
   ]
  },
  {
   "cell_type": "markdown",
   "id": "cbade728-fa95-4da9-9306-b3942ca9ec8e",
   "metadata": {},
   "source": [
    "#### 1.2 Visualising the data."
   ]
  },
  {
   "cell_type": "code",
   "execution_count": 7,
   "id": "6bd15e34-f2d7-4cc7-9a63-6cf9d88eea99",
   "metadata": {},
   "outputs": [
    {
     "data": {
      "image/png": "[encoded data removed]",
      "text/plain": [
       "<Figure size 800x500 with 1 Axes>"
      ]
     },
     "metadata": {},
     "output_type": "display_data"
    }
   ],
   "source": [
    "# plt.figure(figuresize=(9,9))\n",
    "plt.figure(figsize=(8, 5))\n",
    "sns.regplot(x=\"YearsExperience\", y=\"Salary\", data=df, scatter_kws={'color':'blue'}, line_kws={'color':'red'})\n",
    "plt.title(\"Salary Vs Years of experience\")\n",
    "plt.xlabel(\"Years of Experience\")\n",
    "plt.ylabel(\"Salary\")\n",
    "plt.grid(True)\n",
    "plt.show()"
   ]
  },
  {
   "cell_type": "markdown",
   "id": "8a049784-d9fd-4055-a431-b22e5973e0f1",
   "metadata": {},
   "source": [
    "### Pre-processing"
   ]
  },
  {
   "cell_type": "markdown",
   "id": "9438c2ed-dd15-48e4-821d-9ce9e8503ae6",
   "metadata": {},
   "source": [
    "- This is a crucial step where we:\n",
    "    - Clean our data and handle missing values.\n",
    "    - Transform our data\n",
    "       - Normalization/Standardization: Scale numerical features so they have a similar range. Normalization (scaling to a range, e.g., 0 to 1) and standardization (scaling to have mean 0 and variance 1) are common methods.\n",
    "        - Encoding Categorical Variables: Convert categorical data into numerical format using techniques like one-hot encoding, label encoding, or ordinal encoding.\n",
    "        - Feature Engineering: Create new features from existing data that might be more useful for the model. This could include polynomial features, interaction terms, or domain-specific features.\n",
    "    - Data Integration\n",
    "        - Merging Datasets: Combine data from multiple sources or tables into a single cohesive dataset, ensuring that related data points are aligned properly.\n",
    "        - Data Aggregation: Summarize data by grouping and aggregating it to reduce dimensionality and highlight key trends.\n",
    "    - Feature Selection:\n",
    "        - Selecting Relevant Features: Identify and keep only the most relevant features for the model. This can be done through methods like correlation analysis, feature importance scores, or dimensionality reduction techniques.\n",
    "        - Dimensionality Reduction: Reduce the number of features while retaining essential information. Techniques like Principal Component Analysis (PCA) or Linear Discriminant Analysis (LDA) are often used.\n",
    "      - Data Splitting\n",
    "  - Training and Testing Sets:\n",
    "    - Divide the dataset into training and testing sets to evaluate the model’s performance. Common splits are 70-30 or 80-20.`\n",
    "    - Cross-Validation: Use techniques like k-fold cross-validation to ensure that the model generalizes well and to prevent overfitting.\n",
    "  - Handling Imbalanced Data\n",
    "     - Resampling Techniques: Address imbalanced datasets by using techniques such as oversampling the minority class (e.g., SMOTE), undersampling the majority class, or using class weights.\n",
    "  - Feature Scaling\n",
    "      - Scaling: Ensure features are on the same scale to avoid bias towards features with larger ranges. This includes standardizing or normalizing features."
   ]
  },
  {
   "cell_type": "code",
   "execution_count": 24,
   "id": "aab286b7-3171-46aa-a98f-eccc726d08f8",
   "metadata": {},
   "outputs": [],
   "source": [
    "#Feature selection.\n",
    "X = df['YearsExperience'].values.reshape(-1,1)\n",
    "y=df[\"Salary\"]\n",
    "\n",
    "#spliting the data\n",
    "X_train, X_test, y_train, y_test=train_test_split(X, y, random_state=42, test_size=0.2)\n",
    "\n",
    "# initialising the Pipeline with our model and the scaler\n",
    "pipeline = Pipeline([\n",
    "    (\"scaler\", StandardScaler()), #Applying standardization to the data to make sure they all have the same weight.\n",
    "    (\"model\", LinearRegression()) # Applying our model.\n",
    "])\n",
    "#fitting our model.\n",
    "pipeline.fit(X_train, y_train)\n",
    "y_pred = pipeline.predict(X_test)"
   ]
  },
  {
   "cell_type": "code",
   "execution_count": 25,
   "id": "7289abc9-28fd-47bf-b47d-fee9ac073851",
   "metadata": {},
   "outputs": [
    {
     "name": "stdout",
     "output_type": "stream",
     "text": [
      "Mean Squared Error: 49830096.85590836\n"
     ]
    }
   ],
   "source": [
    "#evaluating the model performance.\n",
    "print(f'Mean Squared Error: {mean_squared_error(y_test, y_pred)}')"
   ]
  },
  {
   "cell_type": "code",
   "execution_count": 28,
   "id": "d7f4dd0f-749b-41f1-891a-7e3a19b1b0f2",
   "metadata": {},
   "outputs": [
    {
     "name": "stdout",
     "output_type": "stream",
     "text": [
      "Mean Squared Error: 49830096.85590836\n",
      "Root Mean Squared Error: 7059.043621901507\n",
      "Mean Absolute Error: 6286.453830757742\n",
      "R-squared: 0.9024461774180498\n"
     ]
    }
   ],
   "source": [
    "# Assuming y_test and y_pred are your true and predicted values\n",
    "mse = mean_squared_error(y_test, y_pred)\n",
    "rmse = np.sqrt(mse)  # Root Mean Squared Error\n",
    "mae = mean_absolute_error(y_test, y_pred)\n",
    "r2 = r2_score(y_test, y_pred)\n",
    "\n",
    "print(f\"Mean Squared Error: {mse}\")\n",
    "print(f\"Root Mean Squared Error: {rmse}\")\n",
    "print(f\"Mean Absolute Error: {mae}\")\n",
    "print(f\"R-squared: {r2}\")"
   ]
  },
  {
   "cell_type": "code",
   "execution_count": null,
   "id": "dedee0ad-b598-4f37-b244-2a164ef020a0",
   "metadata": {},
   "outputs": [],
   "source": []
  }
 ],
 "metadata": {
  "kernelspec": {
   "display_name": "Python 3 (ipykernel)",
   "language": "python",
   "name": "python3"
  },
  "language_info": {
   "codemirror_mode": {
    "name": "ipython",
    "version": 3
   },
   "file_extension": ".py",
   "mimetype": "text/x-python",
   "name": "python",
   "nbconvert_exporter": "python",
   "pygments_lexer": "ipython3",
   "version": "3.12.5"
  }
 },
 "nbformat": 4,
 "nbformat_minor": 5
}
